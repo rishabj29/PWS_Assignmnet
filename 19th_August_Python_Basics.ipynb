{
 "cells": [
  {
   "cell_type": "raw",
   "id": "1bf35367",
   "metadata": {},
   "source": [
    "TOPIC: Python Basics Variable"
   ]
  },
  {
   "cell_type": "raw",
   "id": "93802563",
   "metadata": {},
   "source": [
    "Declare two variables, `x` and `y`, and assign them integer values. Swap the\n",
    "values of these variables without using any temporary variable."
   ]
  },
  {
   "cell_type": "code",
   "execution_count": 1,
   "id": "7c7b6d65",
   "metadata": {},
   "outputs": [],
   "source": [
    "x,y=24,79"
   ]
  },
  {
   "cell_type": "code",
   "execution_count": 2,
   "id": "1b0a2d9c",
   "metadata": {},
   "outputs": [],
   "source": [
    "x=x^y\n",
    "y=x^y\n",
    "x=x^y"
   ]
  },
  {
   "cell_type": "code",
   "execution_count": 3,
   "id": "6427118f",
   "metadata": {},
   "outputs": [
    {
     "data": {
      "text/plain": [
       "(79, 24)"
      ]
     },
     "execution_count": 3,
     "metadata": {},
     "output_type": "execute_result"
    }
   ],
   "source": [
    "x,y"
   ]
  },
  {
   "cell_type": "raw",
   "id": "bce6cead",
   "metadata": {},
   "source": [
    "Create a program that calculates the area of a rectangle. Take the length and\n",
    "width as inputs from the user and store them in variables. Calculate and\n",
    "display the area."
   ]
  },
  {
   "cell_type": "code",
   "execution_count": 4,
   "id": "e297fff8",
   "metadata": {},
   "outputs": [
    {
     "name": "stdout",
     "output_type": "stream",
     "text": [
      "Please specify lenghth of triangle:  20\n"
     ]
    }
   ],
   "source": [
    "Length=int(input(\"Please specify lenghth of triangle:  \"))"
   ]
  },
  {
   "cell_type": "code",
   "execution_count": 5,
   "id": "2a252cbf",
   "metadata": {},
   "outputs": [
    {
     "name": "stdout",
     "output_type": "stream",
     "text": [
      "Please specify breath of triangle:  10\n"
     ]
    }
   ],
   "source": [
    "Breadth=int(input(\"Please specify breath of triangle:  \"))"
   ]
  },
  {
   "cell_type": "code",
   "execution_count": 6,
   "id": "9b5a26a0",
   "metadata": {},
   "outputs": [],
   "source": [
    "Traingle_Area=(Length*Breadth)/2"
   ]
  },
  {
   "cell_type": "code",
   "execution_count": 8,
   "id": "be12393b",
   "metadata": {},
   "outputs": [
    {
     "data": {
      "text/plain": [
       "100.0"
      ]
     },
     "execution_count": 8,
     "metadata": {},
     "output_type": "execute_result"
    }
   ],
   "source": [
    "Traingle_Area"
   ]
  },
  {
   "cell_type": "raw",
   "id": "67d995be",
   "metadata": {},
   "source": [
    "Write a Python program that converts temperatures from Celsius to\n",
    "Fahrenheit. Take the temperature in Celsius as input, store it in a variable,\n",
    "convert it to Fahrenheit, and display the result"
   ]
  },
  {
   "cell_type": "code",
   "execution_count": 9,
   "id": "4a751994",
   "metadata": {},
   "outputs": [
    {
     "name": "stdout",
     "output_type": "stream",
     "text": [
      "Please specify temperature in celsius: 102\n"
     ]
    }
   ],
   "source": [
    "input_celsius=float(input(\"Please specify temperature in celsius: \"))"
   ]
  },
  {
   "cell_type": "code",
   "execution_count": 11,
   "id": "2cc04560",
   "metadata": {},
   "outputs": [],
   "source": [
    "convert_to_fahrenheit=(input_celsius*1.8)+32"
   ]
  },
  {
   "cell_type": "code",
   "execution_count": 13,
   "id": "90184ff7",
   "metadata": {},
   "outputs": [
    {
     "name": "stdout",
     "output_type": "stream",
     "text": [
      "215.6\n"
     ]
    }
   ],
   "source": [
    "print(convert_to_fahrenheit)"
   ]
  },
  {
   "cell_type": "raw",
   "id": "81fbd33e",
   "metadata": {},
   "source": [
    "Write a Python program that takes a string as input and prints the length of\n",
    "the string."
   ]
  },
  {
   "cell_type": "code",
   "execution_count": 14,
   "id": "2ff16161",
   "metadata": {},
   "outputs": [
    {
     "name": "stdout",
     "output_type": "stream",
     "text": [
      "Give string to compute its length:   Riishab Jain\n"
     ]
    }
   ],
   "source": [
    "String_Input=input(\"Give string to compute its length:   \")"
   ]
  },
  {
   "cell_type": "code",
   "execution_count": 15,
   "id": "fda4aaa1",
   "metadata": {},
   "outputs": [],
   "source": [
    "Length=len(String_Input)"
   ]
  },
  {
   "cell_type": "code",
   "execution_count": 16,
   "id": "3c26180a",
   "metadata": {},
   "outputs": [
    {
     "data": {
      "text/plain": [
       "12"
      ]
     },
     "execution_count": 16,
     "metadata": {},
     "output_type": "execute_result"
    }
   ],
   "source": [
    "Length"
   ]
  },
  {
   "cell_type": "raw",
   "id": "e95d8f87",
   "metadata": {},
   "source": [
    "Create a program that takes a sentence from the user and counts the number\n",
    "of vowels (a, e, i, o, u) in the string."
   ]
  },
  {
   "cell_type": "code",
   "execution_count": 26,
   "id": "cf2cc7a6",
   "metadata": {},
   "outputs": [],
   "source": [
    "def count_vowels(sentence):\n",
    "    vowels='aeiou'\n",
    "    count_vowel=sum(sentence.lower().count(vowel) for vowel in vowels)\n",
    "    return count_vowel"
   ]
  },
  {
   "cell_type": "code",
   "execution_count": 27,
   "id": "cdb1a738",
   "metadata": {},
   "outputs": [],
   "source": [
    "sentence=\"What is your name\""
   ]
  },
  {
   "cell_type": "code",
   "execution_count": 28,
   "id": "f57be336",
   "metadata": {},
   "outputs": [],
   "source": [
    "vowel_count=count_vowels(sentence)"
   ]
  },
  {
   "cell_type": "code",
   "execution_count": 29,
   "id": "fe7337fc",
   "metadata": {},
   "outputs": [
    {
     "data": {
      "text/plain": [
       "6"
      ]
     },
     "execution_count": 29,
     "metadata": {},
     "output_type": "execute_result"
    }
   ],
   "source": [
    "vowel_count"
   ]
  },
  {
   "cell_type": "raw",
   "id": "28bf0d4a",
   "metadata": {},
   "source": [
    "Given a string, reverse the order of characters using string slicing and print\n",
    "the reversed string"
   ]
  },
  {
   "cell_type": "code",
   "execution_count": 30,
   "id": "317b5038",
   "metadata": {},
   "outputs": [],
   "source": [
    "a=\"STRING\""
   ]
  },
  {
   "cell_type": "code",
   "execution_count": 36,
   "id": "d37dba83",
   "metadata": {},
   "outputs": [],
   "source": [
    "b=a[::-1]"
   ]
  },
  {
   "cell_type": "code",
   "execution_count": 37,
   "id": "d0d50f41",
   "metadata": {},
   "outputs": [
    {
     "data": {
      "text/plain": [
       "'GNIRTS'"
      ]
     },
     "execution_count": 37,
     "metadata": {},
     "output_type": "execute_result"
    }
   ],
   "source": [
    "b"
   ]
  },
  {
   "cell_type": "raw",
   "id": "9711f686",
   "metadata": {},
   "source": [
    "Write a program that takes a string as input and checks if it is a palindrome\n",
    "(reads the same forwards and backwards)."
   ]
  },
  {
   "cell_type": "code",
   "execution_count": 41,
   "id": "118e05a6",
   "metadata": {},
   "outputs": [],
   "source": [
    "a=\"madam\""
   ]
  },
  {
   "cell_type": "code",
   "execution_count": 42,
   "id": "bba379cd",
   "metadata": {},
   "outputs": [],
   "source": [
    "b=\"madam\""
   ]
  },
  {
   "cell_type": "code",
   "execution_count": 44,
   "id": "9bf28f9f",
   "metadata": {},
   "outputs": [
    {
     "data": {
      "text/plain": [
       "True"
      ]
     },
     "execution_count": 44,
     "metadata": {},
     "output_type": "execute_result"
    }
   ],
   "source": [
    "a==b"
   ]
  },
  {
   "cell_type": "code",
   "execution_count": 50,
   "id": "6d170ddd",
   "metadata": {},
   "outputs": [],
   "source": [
    "def palindrome_check(word):\n",
    "    a=word\n",
    "    b=a[::-1]\n",
    "    if a==b:\n",
    "        return \"Its a palindrome_word\"\n",
    "    else:\n",
    "        return \"Its not a palindrome_word\""
   ]
  },
  {
   "cell_type": "code",
   "execution_count": 51,
   "id": "e531a3f7",
   "metadata": {},
   "outputs": [
    {
     "name": "stdout",
     "output_type": "stream",
     "text": [
      "Enter your word for palidrome check: Riishab\n"
     ]
    }
   ],
   "source": [
    "word=input(\"Enter your word for palidrome check: \")"
   ]
  },
  {
   "cell_type": "code",
   "execution_count": 52,
   "id": "747f4a12",
   "metadata": {},
   "outputs": [],
   "source": [
    "c=palindrome_check(word)"
   ]
  },
  {
   "cell_type": "code",
   "execution_count": 53,
   "id": "f9c1f0ca",
   "metadata": {},
   "outputs": [
    {
     "data": {
      "text/plain": [
       "'Its not a palindrome_word'"
      ]
     },
     "execution_count": 53,
     "metadata": {},
     "output_type": "execute_result"
    }
   ],
   "source": [
    "c"
   ]
  },
  {
   "cell_type": "raw",
   "id": "85d91e65",
   "metadata": {},
   "source": [
    "Create a program that takes a string as input and removes all the spaces from\n",
    "it. Print the modified string without spaces"
   ]
  },
  {
   "cell_type": "code",
   "execution_count": 54,
   "id": "70530796",
   "metadata": {},
   "outputs": [],
   "source": [
    "def remove_spaces(strings):\n",
    "    a=strings.replace(\" \",\"\")\n",
    "    return a"
   ]
  },
  {
   "cell_type": "code",
   "execution_count": 55,
   "id": "79aeff37",
   "metadata": {},
   "outputs": [
    {
     "name": "stdout",
     "output_type": "stream",
     "text": [
      "Share your text to remove all the spaces: What is   your    name?\n"
     ]
    }
   ],
   "source": [
    "strings=input(\"Share your text to remove all the spaces: \")"
   ]
  },
  {
   "cell_type": "code",
   "execution_count": 56,
   "id": "0d4450aa",
   "metadata": {},
   "outputs": [],
   "source": [
    "remove=remove_spaces(strings)"
   ]
  },
  {
   "cell_type": "code",
   "execution_count": 57,
   "id": "502f1809",
   "metadata": {},
   "outputs": [
    {
     "data": {
      "text/plain": [
       "'Whatisyourname?'"
      ]
     },
     "execution_count": 57,
     "metadata": {},
     "output_type": "execute_result"
    }
   ],
   "source": [
    "remove"
   ]
  },
  {
   "cell_type": "code",
   "execution_count": null,
   "id": "08f55386",
   "metadata": {},
   "outputs": [],
   "source": []
  }
 ],
 "metadata": {
  "kernelspec": {
   "display_name": "Python 3 (ipykernel)",
   "language": "python",
   "name": "python3"
  },
  "language_info": {
   "codemirror_mode": {
    "name": "ipython",
    "version": 3
   },
   "file_extension": ".py",
   "mimetype": "text/x-python",
   "name": "python",
   "nbconvert_exporter": "python",
   "pygments_lexer": "ipython3",
   "version": "3.9.7"
  }
 },
 "nbformat": 4,
 "nbformat_minor": 5
}
